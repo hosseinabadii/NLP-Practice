{
 "cells": [
  {
   "cell_type": "code",
   "execution_count": 1,
   "metadata": {},
   "outputs": [],
   "source": [
    "import numpy as np\n",
    "from bs4 import BeautifulSoup\n",
    "from nltk.corpus import stopwords\n",
    "from nltk.tokenize import word_tokenize\n",
    "from nltk.stem import PorterStemmer\n",
    "\n",
    "from sklearn.linear_model import LogisticRegression\n",
    "from sklearn.model_selection import train_test_split\n",
    "from sklearn.metrics import confusion_matrix, accuracy_score"
   ]
  },
  {
   "attachments": {},
   "cell_type": "markdown",
   "metadata": {},
   "source": [
    "### Read the information from the files"
   ]
  },
  {
   "cell_type": "code",
   "execution_count": 2,
   "metadata": {},
   "outputs": [],
   "source": [
    "with open(\"data/positive.review\") as f:\n",
    "    soup = BeautifulSoup(f.read(), \"lxml\")\n",
    "\n",
    "positive_reviews = soup.find_all(\"review_text\")\n",
    "\n",
    "with open(\"data/negative.review\") as f:\n",
    "    soup = BeautifulSoup(f.read(), \"lxml\")\n",
    "negative_reviews = soup.find_all(\"review_text\")"
   ]
  },
  {
   "cell_type": "code",
   "execution_count": 3,
   "metadata": {},
   "outputs": [],
   "source": [
    "negative_stopwords = {\"no\", \"nor\", \"not\", \"off\"}.union(\n",
    "    {w for w in stopwords.words(\"english\") if w.endswith(\"'t\")}\n",
    ")\n",
    "new_stopwords = set(stopwords.words(\"english\")).difference(negative_stopwords)"
   ]
  },
  {
   "attachments": {},
   "cell_type": "markdown",
   "metadata": {},
   "source": [
    "### Function that tokenize and clean the reviews"
   ]
  },
  {
   "cell_type": "code",
   "execution_count": 4,
   "metadata": {},
   "outputs": [],
   "source": [
    "stemmer = PorterStemmer()\n",
    "def custom_tokenizer(review):\n",
    "    review = review.lower()\n",
    "    tokens = word_tokenize(review)\n",
    "    tokens = [t for t in tokens if t not in new_stopwords] # remove stopwords\n",
    "    tokens = [t for t in tokens if len(t) > 2] # remove short words, they're probably not useful\n",
    "    tokens = [stemmer.stem(t) for t in tokens]\n",
    "    return tokens"
   ]
  },
  {
   "attachments": {},
   "cell_type": "markdown",
   "metadata": {},
   "source": [
    "### Create a `word_index_map` to store an index for all the tokens, and create `positive_tokens` and `negative_tokens`"
   ]
  },
  {
   "cell_type": "code",
   "execution_count": 5,
   "metadata": {},
   "outputs": [],
   "source": [
    "positive_tokens = []\n",
    "negative_tokens = []\n",
    "word_index_map = {}\n",
    "i = 0\n",
    "for review in positive_reviews:\n",
    "    tokens = custom_tokenizer(review.text)\n",
    "    positive_tokens.append(tokens)\n",
    "    for token in tokens:\n",
    "        if token not in word_index_map:\n",
    "            word_index_map[token] = i\n",
    "            i += 1\n",
    "\n",
    "for review in negative_reviews:\n",
    "    tokens = custom_tokenizer(review.text)\n",
    "    negative_tokens.append(tokens)\n",
    "    for token in tokens:\n",
    "        if token not in word_index_map:\n",
    "            word_index_map[token] = i\n",
    "            i += 1"
   ]
  },
  {
   "attachments": {},
   "cell_type": "markdown",
   "metadata": {},
   "source": [
    "### Populate the `data` numpy array to store features and labels"
   ]
  },
  {
   "cell_type": "code",
   "execution_count": 6,
   "metadata": {},
   "outputs": [],
   "source": [
    "d = len(word_index_map)\n",
    "n = len(positive_tokens) + len(negative_tokens)\n",
    "data = np.zeros((n, d + 1))"
   ]
  },
  {
   "cell_type": "code",
   "execution_count": 7,
   "metadata": {},
   "outputs": [],
   "source": [
    "i = 0\n",
    "for token in positive_tokens:\n",
    "    for word in token:\n",
    "        j = word_index_map[word]\n",
    "        data[i, j] += 1\n",
    "    data[i, -1] = 1\n",
    "    i += 1\n",
    "\n",
    "for token in negative_tokens:\n",
    "    for word in token:\n",
    "        j = word_index_map[word]\n",
    "        data[i, j] += 1\n",
    "    data[i, -1] = 0\n",
    "    i += 1"
   ]
  },
  {
   "attachments": {},
   "cell_type": "markdown",
   "metadata": {},
   "source": [
    "### Shuffle the data and separate the features and labels"
   ]
  },
  {
   "cell_type": "code",
   "execution_count": 8,
   "metadata": {},
   "outputs": [],
   "source": [
    "np.random.seed(0)\n",
    "np.random.shuffle(data)\n",
    "X = data[:, :-1]\n",
    "y = data[:, -1]"
   ]
  },
  {
   "cell_type": "code",
   "execution_count": 9,
   "metadata": {},
   "outputs": [],
   "source": [
    "X_train, X_test, y_train, y_test = train_test_split(X, y, test_size=0.2, random_state=0)"
   ]
  },
  {
   "cell_type": "code",
   "execution_count": 10,
   "metadata": {},
   "outputs": [],
   "source": [
    "clf = LogisticRegression()\n",
    "X_train = clf.fit(X_train, y_train)\n",
    "y_pred = clf.predict(X_test)"
   ]
  },
  {
   "cell_type": "code",
   "execution_count": 11,
   "metadata": {},
   "outputs": [
    {
     "name": "stdout",
     "output_type": "stream",
     "text": [
      "[[158  34]\n",
      " [ 36 172]]\n",
      "0.825\n"
     ]
    }
   ],
   "source": [
    "cm = confusion_matrix(y_test, y_pred)\n",
    "accuracy = accuracy_score(y_test, y_pred)\n",
    "print(cm)\n",
    "print(accuracy)"
   ]
  }
 ],
 "metadata": {
  "kernelspec": {
   "display_name": "py310",
   "language": "python",
   "name": "python3"
  },
  "language_info": {
   "codemirror_mode": {
    "name": "ipython",
    "version": 3
   },
   "file_extension": ".py",
   "mimetype": "text/x-python",
   "name": "python",
   "nbconvert_exporter": "python",
   "pygments_lexer": "ipython3",
   "version": "3.10.12"
  },
  "orig_nbformat": 4
 },
 "nbformat": 4,
 "nbformat_minor": 2
}
