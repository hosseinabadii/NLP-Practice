{
 "cells": [
  {
   "cell_type": "code",
   "execution_count": 1,
   "metadata": {},
   "outputs": [],
   "source": [
    "import random\n",
    "import string\n",
    "import re\n",
    "import textwrap\n",
    "import numpy as np"
   ]
  },
  {
   "cell_type": "code",
   "execution_count": 2,
   "metadata": {},
   "outputs": [],
   "source": [
    "## create substitution cipher\n",
    "\n",
    "letters1 = list(string.ascii_lowercase)\n",
    "letters2 = list(string.ascii_lowercase)\n",
    "\n",
    "# shuffle the second set of letters\n",
    "random.shuffle(letters2)\n",
    "\n",
    "# populate map\n",
    "true_mapping = {}\n",
    "for k, v in zip(letters1, letters2):\n",
    "    true_mapping[k] = v"
   ]
  },
  {
   "cell_type": "code",
   "execution_count": 3,
   "metadata": {},
   "outputs": [],
   "source": [
    "regex = r\"[^a-zA-Z]\"\n",
    "def encode_message(msg):\n",
    "    \"\"\"A function to encode a message\"\"\"\n",
    "    msg = msg.lower()\n",
    "    msg = re.sub(regex, \" \", msg)\n",
    "    coded_msg = []\n",
    "    for ch in msg:\n",
    "        coded_ch = ch  # could just be a space\n",
    "        if ch in true_mapping:\n",
    "            coded_ch = true_mapping[ch]\n",
    "        coded_msg.append(coded_ch)\n",
    "    return \"\".join(coded_msg)"
   ]
  },
  {
   "cell_type": "code",
   "execution_count": 4,
   "metadata": {},
   "outputs": [],
   "source": [
    "def decode_message(msg, word_map):\n",
    "    \"\"\"A function to decode a message\"\"\"\n",
    "    decoded_msg = []\n",
    "    for ch in msg:\n",
    "        decoded_ch = ch  #could just be a space\n",
    "        if ch in word_map:\n",
    "            decoded_ch = word_map[ch]\n",
    "        decoded_msg.append(decoded_ch)\n",
    "    return \"\".join(decoded_msg)"
   ]
  },
  {
   "cell_type": "code",
   "execution_count": 5,
   "metadata": {},
   "outputs": [],
   "source": [
    "original_message = '''I then lounged down the street and found,\n",
    "as I expected, that there was a mews in a lane which runs down\n",
    "by one wall of the garden. I lent the ostlers a hand in rubbing\n",
    "down their horses, and received in exchange twopence, a glass of\n",
    "half-and-half, two fills of shag tobacco, and as much information\n",
    "as I could desire about Miss Adler, to say nothing of half a dozen\n",
    "other people in the neighbourhood in whom I was not in the least\n",
    "interested, but whose biographies I was compelled to listen to.\n",
    "'''"
   ]
  },
  {
   "attachments": {},
   "cell_type": "markdown",
   "metadata": {},
   "source": [
    "### Test the encode and decode functions"
   ]
  },
  {
   "cell_type": "code",
   "execution_count": 6,
   "metadata": {},
   "outputs": [
    {
     "data": {
      "text/plain": [
       "'z lgbv jxcvibe expv lgb hlnbbl tve yxcve  th z bsqbklbe  lgtl lgbnb pth t abph zv t jtvb pgzkg ncvh expv dw xvb ptjj xy lgb itnebv  z jbvl lgb xhljbnh t gtve zv ncddzvi expv lgbzn gxnhbh  tve nbkbzube zv bskgtvib lpxqbvkb  t ijthh xy gtjy tve gtjy  lpx yzjjh xy hgti lxdtkkx  tve th ackg zvyxnatlzxv th z kxcje ebhznb tdxcl azhh tejbn  lx htw vxlgzvi xy gtjy t exfbv xlgbn qbxqjb zv lgb vbzigdxcngxxe zv pgxa z pth vxl zv lgb jbthl zvlbnbhlbe  dcl pgxhb dzxintqgzbh z pth kxaqbjjbe lx jzhlbv lx  '"
      ]
     },
     "execution_count": 6,
     "metadata": {},
     "output_type": "execute_result"
    }
   ],
   "source": [
    "encoded_message = encode_message(original_message)\n",
    "encoded_message"
   ]
  },
  {
   "cell_type": "code",
   "execution_count": 7,
   "metadata": {},
   "outputs": [
    {
     "data": {
      "text/plain": [
       "'i then lounged down the street and found  as i expected  that there was a mews in a lane which runs down by one wall of the garden  i lent the ostlers a hand in rubbing down their horses  and received in exchange twopence  a glass of half and half  two fills of shag tobacco  and as much information as i could desire about miss adler  to say nothing of half a dozen other people in the neighbourhood in whom i was not in the least interested  but whose biographies i was compelled to listen to  '"
      ]
     },
     "execution_count": 7,
     "metadata": {},
     "output_type": "execute_result"
    }
   ],
   "source": [
    "word_map = {v:k for k, v in true_mapping.items()}\n",
    "decode_message(encoded_message, word_map)"
   ]
  },
  {
   "attachments": {},
   "cell_type": "markdown",
   "metadata": {},
   "source": [
    "## Create a language model\n",
    "p(x1, x2, x3, ..., xT) = p(x1) * p(x2|x1) * p(x3|x2) * ...  \n",
    "- first letter -> unigram\n",
    "- other letters -> bigram"
   ]
  },
  {
   "cell_type": "code",
   "execution_count": 8,
   "metadata": {},
   "outputs": [],
   "source": [
    "# initial state distribution\n",
    "pi = np.zeros(26)\n",
    "\n",
    "def update_pi(ch):\n",
    "    \"\"\"A function to update the initial state distribution\"\"\"\n",
    "    i = ord(ch) - 97  # ord(\"a\") = 97\n",
    "    pi[i] += 1"
   ]
  },
  {
   "cell_type": "code",
   "execution_count": 9,
   "metadata": {},
   "outputs": [],
   "source": [
    "# initialize Markov matrix\n",
    "M = np.ones((26, 26))\n",
    "\n",
    "def update_transition(ch1, ch2):\n",
    "    \"\"\"A function to update the Markov matrix\"\"\"\n",
    "    i = ord(ch1) - 97\n",
    "    j = ord(ch2) - 97\n",
    "    M[i,j] += 1"
   ]
  },
  {
   "cell_type": "code",
   "execution_count": 10,
   "metadata": {},
   "outputs": [],
   "source": [
    "# for replacing non-alpha characters\n",
    "regex = r\"[^a-zA-Z]\"\n",
    "f = open(\"moby_dick.txt\")\n",
    "for line in f:\n",
    "    line = line.rstrip()\n",
    "\n",
    "    # there are blank lines in the file\n",
    "    if line:\n",
    "        line = re.sub(regex, \" \", line)\n",
    "\n",
    "    # split the tokens in the line and lowercase\n",
    "    tokens = line.lower().split()\n",
    "    for token in tokens:\n",
    "        # update the model\n",
    "\n",
    "        # first letter\n",
    "        ch0 = token[0]\n",
    "        update_pi(ch0)\n",
    "\n",
    "        # other letters\n",
    "        for ch1 in token[1:]:\n",
    "            update_transition(ch0, ch1)\n",
    "            ch0 = ch1\n",
    "\n",
    "\n",
    "# normaliza the probabilities\n",
    "pi /= pi.sum()\n",
    "M /= M.sum(axis=1, keepdims=True)\n",
    "\n",
    "f.close()"
   ]
  },
  {
   "cell_type": "code",
   "execution_count": 11,
   "metadata": {},
   "outputs": [],
   "source": [
    "def get_word_prob(word):\n",
    "    \"\"\"get the log-probability of a word / token\"\"\"\n",
    "    i = ord(word[0]) - 97\n",
    "    logp = np.log(pi[i])\n",
    "\n",
    "    for ch in word[1:]:\n",
    "        j = ord(ch) - 97\n",
    "        logp += np.log(M[i, j])  #update prob\n",
    "        i = j #update j\n",
    "\n",
    "    return logp"
   ]
  },
  {
   "cell_type": "code",
   "execution_count": 12,
   "metadata": {},
   "outputs": [],
   "source": [
    "def get_sequence_prob(words):\n",
    "    \"\"\"get the probability of a sequence of words\"\"\"\n",
    "    if type(words) == str:\n",
    "        words = words.lower().split()\n",
    "\n",
    "    logp = 0\n",
    "    for word in words:\n",
    "        logp += get_word_prob(word)\n",
    "    return logp"
   ]
  },
  {
   "attachments": {},
   "cell_type": "markdown",
   "metadata": {},
   "source": [
    "## Run evolutionary algorithm to decode the message"
   ]
  },
  {
   "cell_type": "code",
   "execution_count": 13,
   "metadata": {},
   "outputs": [],
   "source": [
    "def create_dna_pool():\n",
    "    dna_pool = []\n",
    "    for _ in range(20):\n",
    "        dna = list(string.ascii_lowercase)\n",
    "        random.shuffle(dna)\n",
    "        dna_pool.append(dna)\n",
    "    return dna_pool"
   ]
  },
  {
   "cell_type": "code",
   "execution_count": 14,
   "metadata": {},
   "outputs": [],
   "source": [
    "def evolve_offspring(dna_pool, n_children):\n",
    "    offspring = []\n",
    "    for dna in dna_pool:\n",
    "        for _ in range(n_children):\n",
    "            copy = dna.copy()\n",
    "            j = np.random.randint(len(copy))\n",
    "            k = np.random.randint(len(copy))\n",
    "\n",
    "            # swich 2 letters in copy of dna\n",
    "            tmp = copy[j]\n",
    "            copy[j] = copy[k]\n",
    "            copy[k] = tmp\n",
    "            offspring.append(copy)\n",
    "    return offspring + dna_pool"
   ]
  },
  {
   "cell_type": "code",
   "execution_count": 15,
   "metadata": {},
   "outputs": [
    {
     "name": "stdout",
     "output_type": "stream",
     "text": [
      "iter: 0, score: -2106.903071214343, best so far: -1858.5518885747967\n",
      "iter: 200, score: -1095.9411836780946, best so far: -951.2496074296321\n",
      "iter: 400, score: -993.6622749482083, best so far: -929.5902922650557\n",
      "iter: 600, score: -1003.0990856838407, best so far: -929.5902922650557\n",
      "iter: 800, score: -1001.039172957757, best so far: -929.5902922650557\n"
     ]
    }
   ],
   "source": [
    "num_iters = 1000\n",
    "scores = np.zeros(num_iters)\n",
    "best_dna = None\n",
    "best_map = None\n",
    "best_score = float(\"-inf\")\n",
    "dna_pool = create_dna_pool()\n",
    "\n",
    "for i in range(num_iters):\n",
    "    if i > 0:\n",
    "        # get offspring from the current dna pool\n",
    "        dna_pool = evolve_offspring(dna_pool, 3)\n",
    "\n",
    "    # calculate score for each dna\n",
    "    dna2score = {}\n",
    "    for dna in dna_pool:\n",
    "        current_map = {}\n",
    "        for k, v in zip(letters1, dna):\n",
    "            current_map[k] = v\n",
    "        decoded_message = decode_message(encoded_message, current_map)\n",
    "        score = get_sequence_prob(decoded_message)\n",
    "\n",
    "        # needs to be a string to be a dict key\n",
    "        dna2score[\"\".join(dna)] = score\n",
    "        if score > best_score:\n",
    "            best_dna = dna\n",
    "            best_map = current_map\n",
    "            best_score = score\n",
    "\n",
    "    scores[i] = np.mean(list(dna2score.values()))\n",
    "\n",
    "    # keep the best five dna\n",
    "    # also turn them back into list of single chars\n",
    "    sorted_dna = sorted(dna2score.items(), key=lambda x: x[1], reverse=True)\n",
    "    dna_pool = [list(k) for k, _ in sorted_dna[:5]]\n",
    "\n",
    "    if i % 200 == 0:\n",
    "        print(f\"iter: {i}, score: {scores[i]}, best so far: {best_score}\")"
   ]
  },
  {
   "cell_type": "code",
   "execution_count": 16,
   "metadata": {},
   "outputs": [],
   "source": [
    "# use best score\n",
    "decoded_message = decode_message(encoded_message, best_map)"
   ]
  },
  {
   "cell_type": "code",
   "execution_count": 17,
   "metadata": {},
   "outputs": [
    {
     "name": "stdout",
     "output_type": "stream",
     "text": [
      "LL of decoded message: -929.5902922650557\n",
      "LL of true message: -933.0312453751817\n"
     ]
    }
   ],
   "source": [
    "print(f\"LL of decoded message: {get_sequence_prob(decoded_message)}\")\n",
    "print(f\"LL of true message: { get_sequence_prob(re.sub(regex, ' ', original_message.lower()))}\")"
   ]
  },
  {
   "cell_type": "code",
   "execution_count": 18,
   "metadata": {},
   "outputs": [
    {
     "name": "stdout",
     "output_type": "stream",
     "text": [
      "true: j, pred: q\n",
      "true: k, pred: j\n",
      "true: q, pred: z\n",
      "true: z, pred: k\n",
      "accuracy: 84.62%\n"
     ]
    }
   ],
   "source": [
    "# which letters are wrong?\n",
    "num_wrongs = 0\n",
    "for true, v in true_mapping.items():\n",
    "    pred = best_map[v]\n",
    "    if true != pred:\n",
    "        print(f\"true: {true}, pred: {pred}\")\n",
    "        num_wrongs += 1\n",
    "accuracy = 100 * (26 - num_wrongs) / 26\n",
    "print(f\"accuracy: {accuracy:.2f}%\")\n"
   ]
  },
  {
   "cell_type": "code",
   "execution_count": 19,
   "metadata": {},
   "outputs": [
    {
     "name": "stdout",
     "output_type": "stream",
     "text": [
      "Decoded message: \n",
      "i then lounged down the street and found  as i expected  that there\n",
      "was a mews in a lane which runs down by one wall of the garden  i lent\n",
      "the ostlers a hand in rubbing down their horses  and received in\n",
      "exchange twopence  a glass of half and half  two fills of shag tobacco\n",
      "and as much information as i could desire about miss adler  to say\n",
      "nothing of half a doken other people in the neighbourhood in whom i\n",
      "was not in the least interested  but whose biographies i was compelled\n",
      "to listen to\n",
      "\n",
      "True message:\n",
      "I then lounged down the street and found,\n",
      "as I expected, that there was a mews in a lane which runs down\n",
      "by one wall of the garden. I lent the ostlers a hand in rubbing\n",
      "down their horses, and received in exchange twopence, a glass of\n",
      "half-and-half, two fills of shag tobacco, and as much information\n",
      "as I could desire about Miss Adler, to say nothing of half a dozen\n",
      "other people in the neighbourhood in whom I was not in the least\n",
      "interested, but whose biographies I was compelled to listen to.\n",
      "\n"
     ]
    }
   ],
   "source": [
    "# print the final decoded message\n",
    "print(f\"Decoded message: \\n{textwrap.fill(decoded_message)}\")\n",
    "print(f\"\\nTrue message:\\n{original_message}\")"
   ]
  }
 ],
 "metadata": {
  "kernelspec": {
   "display_name": "py310",
   "language": "python",
   "name": "python3"
  },
  "language_info": {
   "codemirror_mode": {
    "name": "ipython",
    "version": 3
   },
   "file_extension": ".py",
   "mimetype": "text/x-python",
   "name": "python",
   "nbconvert_exporter": "python",
   "pygments_lexer": "ipython3",
   "version": "3.10.12"
  },
  "orig_nbformat": 4
 },
 "nbformat": 4,
 "nbformat_minor": 2
}
